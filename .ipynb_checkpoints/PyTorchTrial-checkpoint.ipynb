{
 "cells": [
  {
   "cell_type": "markdown",
   "id": "a1db60cf-e16f-4b77-89ce-fd95a562dc61",
   "metadata": {},
   "source": [
    "<h1>PyTorch Testing</h1>"
   ]
  },
  {
   "cell_type": "code",
   "execution_count": 294,
   "id": "27616fd2-4b15-40f1-8513-6f1ac6f5a1dd",
   "metadata": {},
   "outputs": [],
   "source": [
    "import numpy as np\n",
    "import torch"
   ]
  },
  {
   "cell_type": "code",
   "execution_count": 295,
   "id": "3f164362-fc61-4e13-ad94-5c75aa892bed",
   "metadata": {},
   "outputs": [],
   "source": [
    "data = [[1, 2], [3, 4]]\n",
    "x_data = torch.tensor(data)"
   ]
  },
  {
   "cell_type": "code",
   "execution_count": 296,
   "id": "3de89326-902a-4fad-a92d-afb9e139d600",
   "metadata": {},
   "outputs": [],
   "source": [
    "torch.manual_seed(42)\n",
    "torch.use_deterministic_algorithms(False)"
   ]
  },
  {
   "cell_type": "code",
   "execution_count": 297,
   "id": "784418b4-49e5-4a77-a601-9fa771fb2609",
   "metadata": {},
   "outputs": [
    {
     "name": "stdout",
     "output_type": "stream",
     "text": [
      "Ones Tensor: \n",
      " tensor([[1, 1],\n",
      "        [1, 1]]) \n",
      "\n",
      "Random Tensor: \n",
      " tensor([[0.8823, 0.9150],\n",
      "        [0.3829, 0.9593]]) \n",
      "\n"
     ]
    }
   ],
   "source": [
    "x_ones = torch.ones_like(x_data) # retains the properties of x_data\n",
    "print(f\"Ones Tensor: \\n {x_ones} \\n\")\n",
    "\n",
    "x_rand = torch.rand_like(x_data, dtype=torch.float) # overrides the datatype of x_data\n",
    "print(f\"Random Tensor: \\n {x_rand} \\n\")"
   ]
  },
  {
   "cell_type": "code",
   "execution_count": 298,
   "id": "2b37e8a4-9bbf-4d2f-9e0f-9dee97d85314",
   "metadata": {},
   "outputs": [
    {
     "name": "stdout",
     "output_type": "stream",
     "text": [
      "Random Tensor: \n",
      " tensor([[0.3904, 0.6009, 0.2566],\n",
      "        [0.7936, 0.9408, 0.1332]]) \n",
      "\n",
      "Ones Tensor: \n",
      " tensor([[1., 1., 1.],\n",
      "        [1., 1., 1.]]) \n",
      "\n",
      "Zeros Tensor: \n",
      " tensor([[0., 0., 0.],\n",
      "        [0., 0., 0.]])\n"
     ]
    }
   ],
   "source": [
    "shape = (2,3)\n",
    "rand_tensor = torch.rand(shape)\n",
    "ones_tensor = torch.ones(shape)\n",
    "zeros_tensor = torch.zeros(shape)\n",
    "\n",
    "print(f\"Random Tensor: \\n {rand_tensor} \\n\")\n",
    "print(f\"Ones Tensor: \\n {ones_tensor} \\n\")\n",
    "print(f\"Zeros Tensor: \\n {zeros_tensor}\")"
   ]
  },
  {
   "cell_type": "code",
   "execution_count": 299,
   "id": "6b22ce5a-0ef5-47e7-81a7-a079f7c960c2",
   "metadata": {},
   "outputs": [
    {
     "name": "stdout",
     "output_type": "stream",
     "text": [
      "Shape of tensor: torch.Size([3, 4])\n",
      "Datatype of tensor: torch.float32\n",
      "Device tensor is stored on: cpu\n"
     ]
    }
   ],
   "source": [
    "tensor = torch.rand(3,4)\n",
    "\n",
    "print(f\"Shape of tensor: {tensor.shape}\")\n",
    "print(f\"Datatype of tensor: {tensor.dtype}\")\n",
    "print(f\"Device tensor is stored on: {tensor.device}\")"
   ]
  },
  {
   "cell_type": "markdown",
   "id": "07ec1105-c171-4db5-8b83-d169b2f752d2",
   "metadata": {},
   "source": [
    "<h2>Torch Operations</h2>\n",
    "\n",
    "<p>There are over 1200 tensor operations, they are comprehensively descirbed in this document. They tend to relate to matrix manipulation (transposig, indexing, slicing), sampling, and more:\n",
    "\n",
    "\n",
    "<a href='https://pytorch.org/docs/stable/torch.html'>Docs</a></p>"
   ]
  },
  {
   "cell_type": "markdown",
   "id": "fb58088d-ce55-4cc2-8e9c-a603e390a5e7",
   "metadata": {},
   "source": [
    "<p>Note that tensors are defaultly created on the CPU, We can move tensors using the following command, but memory-wise it is far more efficient to just create the tensor on the correct device in the first place.</p>"
   ]
  },
  {
   "cell_type": "code",
   "execution_count": 300,
   "id": "d4cc1f21-1be9-4b54-99d8-0f26b1cb6420",
   "metadata": {},
   "outputs": [
    {
     "name": "stdout",
     "output_type": "stream",
     "text": [
      "Moved to <function current_accelerator at 0x1246da160>\n"
     ]
    }
   ],
   "source": [
    "if torch.accelerator.is_available():\n",
    "    tensor = tensor.to(torch.accelerator.current_accelerator())\n",
    "    print(f\"Moved to {torch.accelerator.current_accelerator}\")\n",
    "# TODO: Figure out how to determine what device we're on."
   ]
  },
  {
   "cell_type": "code",
   "execution_count": 301,
   "id": "f36b1024-5d70-4e29-b2d9-ba9e569e9e9d",
   "metadata": {},
   "outputs": [
    {
     "name": "stdout",
     "output_type": "stream",
     "text": [
      "First row: tensor([1., 1., 1., 1.])\n",
      "First column: tensor([1., 1., 1., 1.])\n",
      "Last column: tensor([1., 1., 1., 1.])\n",
      "tensor([[1., 0., 1., 1.],\n",
      "        [1., 0., 1., 1.],\n",
      "        [1., 0., 1., 1.],\n",
      "        [1., 0., 1., 1.]])\n"
     ]
    }
   ],
   "source": [
    "#Standard numpy-like indicing and slicin\n",
    "tensor = torch.ones(4, 4)\n",
    "print(f\"First row: {tensor[0]}\")\n",
    "print(f\"First column: {tensor[:, 0]}\")\n",
    "print(f\"Last column: {tensor[..., -1]}\")\n",
    "tensor[:,1] = 0\n",
    "print(tensor)"
   ]
  },
  {
   "cell_type": "code",
   "execution_count": 302,
   "id": "36713a55-cfed-43f2-ba02-0528e096a494",
   "metadata": {},
   "outputs": [
    {
     "name": "stdout",
     "output_type": "stream",
     "text": [
      "tensor([[1., 0., 1., 1., 1., 0., 1., 1., 1., 0., 1., 1.],\n",
      "        [1., 0., 1., 1., 1., 0., 1., 1., 1., 0., 1., 1.],\n",
      "        [1., 0., 1., 1., 1., 0., 1., 1., 1., 0., 1., 1.],\n",
      "        [1., 0., 1., 1., 1., 0., 1., 1., 1., 0., 1., 1.]])\n"
     ]
    }
   ],
   "source": [
    "#joining tensors\n",
    "t1 = torch.cat([tensor, tensor, tensor], dim=1) #dim sets the dimension to concat along, in this case we add more columns\n",
    "print(t1)"
   ]
  },
  {
   "cell_type": "code",
   "execution_count": 303,
   "id": "d0d213ce-f857-4d16-beaa-1c25c7dbc149",
   "metadata": {},
   "outputs": [
    {
     "name": "stdout",
     "output_type": "stream",
     "text": [
      "tensor([[3., 3., 3., 3.],\n",
      "        [3., 3., 3., 3.],\n",
      "        [3., 3., 3., 3.],\n",
      "        [3., 3., 3., 3.]])\n",
      "tensor([[3., 3., 3., 3.],\n",
      "        [3., 3., 3., 3.],\n",
      "        [3., 3., 3., 3.],\n",
      "        [3., 3., 3., 3.]])\n",
      "tensor([[1., 0., 1., 1.],\n",
      "        [1., 0., 1., 1.],\n",
      "        [1., 0., 1., 1.],\n",
      "        [1., 0., 1., 1.]])\n",
      "tensor([[1., 0., 1., 1.],\n",
      "        [1., 0., 1., 1.],\n",
      "        [1., 0., 1., 1.],\n",
      "        [1., 0., 1., 1.]])\n"
     ]
    }
   ],
   "source": [
    "#Standard arithmetic operations\n",
    "\n",
    "#Matrix multiplication\n",
    "# This computes the matrix multiplication between two tensors. y1, y2, y3 will have the same value\n",
    "# ``tensor.T`` returns the transpose of a tensor\n",
    "y1 = tensor @ tensor.T\n",
    "y2 = tensor.matmul(tensor.T)\n",
    "\n",
    "print(y1)\n",
    "print(y2)\n",
    "\n",
    "y3 = torch.rand_like(y1)\n",
    "torch.matmul(tensor, tensor.T, out=y3)\n",
    "\n",
    "\n",
    "# This computes the element-wise product. z1, z2, z3 will have the same value\n",
    "z1 = tensor * tensor\n",
    "z2 = tensor.mul(tensor)\n",
    "\n",
    "print(z1)\n",
    "print(z2)\n",
    "\n",
    "z3 = torch.rand_like(tensor);\n",
    "torch.mul(tensor, tensor, out=z3);"
   ]
  },
  {
   "cell_type": "code",
   "execution_count": 304,
   "id": "c10912b3-3989-4fed-9016-8a5020d9b7ea",
   "metadata": {},
   "outputs": [
    {
     "name": "stdout",
     "output_type": "stream",
     "text": [
      "12.0 <class 'float'>\n"
     ]
    }
   ],
   "source": [
    "#If you have a signal item in a tensor, you can convert it to a standard python number type\n",
    "agg = tensor.sum()\n",
    "agg_item = agg.item()\n",
    "print(agg_item, type(agg_item))"
   ]
  },
  {
   "cell_type": "code",
   "execution_count": 305,
   "id": "b5cd9771-04cb-4a64-b590-cd0d5d898a28",
   "metadata": {},
   "outputs": [
    {
     "name": "stdout",
     "output_type": "stream",
     "text": [
      "tensor([[1., 0., 1., 1.],\n",
      "        [1., 0., 1., 1.],\n",
      "        [1., 0., 1., 1.],\n",
      "        [1., 0., 1., 1.]]) \n",
      "\n",
      "tensor([[6., 5., 6., 6.],\n",
      "        [6., 5., 6., 6.],\n",
      "        [6., 5., 6., 6.],\n",
      "        [6., 5., 6., 6.]])\n"
     ]
    }
   ],
   "source": [
    "# In-place operations -> think about bubble sort being in-place -> no additional memory required.\n",
    "print(f\"{tensor} \\n\")\n",
    "new_tensor = tensor.add_(5) # Adding the '_' suffix does this -> And because of this suffix, the output of our tensor is \n",
    "print(new_tensor)"
   ]
  },
  {
   "cell_type": "markdown",
   "id": "40ec3e50-e607-45f8-a398-85df6caab2fd",
   "metadata": {},
   "source": [
    "<h3>Bridge with NumPy</h3>"
   ]
  },
  {
   "cell_type": "code",
   "execution_count": 306,
   "id": "5db25f72-93d8-4a19-8edd-7a0d08b6d7d7",
   "metadata": {},
   "outputs": [
    {
     "name": "stdout",
     "output_type": "stream",
     "text": [
      "t: tensor([1., 1., 1., 1., 1.])\n",
      "n: [1. 1. 1. 1. 1.]\n"
     ]
    }
   ],
   "source": [
    "t = torch.ones(5)\n",
    "print(f\"t: {t}\")\n",
    "n = t.numpy()\n",
    "print(f\"n: {n}\")"
   ]
  },
  {
   "cell_type": "code",
   "execution_count": 307,
   "id": "b9219bc3-8248-4da2-ba51-4c27201359aa",
   "metadata": {},
   "outputs": [
    {
     "name": "stdout",
     "output_type": "stream",
     "text": [
      "t: tensor([2., 2., 2., 2., 2.])\n",
      "n: [2. 2. 2. 2. 2.]\n"
     ]
    }
   ],
   "source": [
    "# These are stored at the SAME PLACE IN MEMORY\n",
    "t.add_(1)\n",
    "print(f\"t: {t}\")\n",
    "print(f\"n: {n}\")"
   ]
  },
  {
   "cell_type": "code",
   "execution_count": 308,
   "id": "7e0362bd-3de3-49b3-ae1b-85daca8b2e56",
   "metadata": {},
   "outputs": [
    {
     "name": "stdout",
     "output_type": "stream",
     "text": [
      "t: tensor([1., 1., 1., 1., 1.], dtype=torch.float64)\n",
      "n: [1. 1. 1. 1. 1.]\n"
     ]
    }
   ],
   "source": [
    "#NumPy to Tensor\n",
    "n = np.ones(5)\n",
    "t = torch.from_numpy(n)\n",
    "print(f\"t: {t}\")\n",
    "print(f\"n: {n}\")"
   ]
  },
  {
   "cell_type": "code",
   "execution_count": 309,
   "id": "344effe2-16e2-41d3-87b6-361b4a36e980",
   "metadata": {},
   "outputs": [
    {
     "name": "stdout",
     "output_type": "stream",
     "text": [
      "t: tensor([2., 2., 2., 2., 2.], dtype=torch.float64)\n",
      "n: [2. 2. 2. 2. 2.]\n"
     ]
    }
   ],
   "source": [
    "# Again, SAME PLACE IN MEMORY\n",
    "np.add(n, 1, out=n)\n",
    "print(f\"t: {t}\")\n",
    "print(f\"n: {n}\")"
   ]
  },
  {
   "cell_type": "markdown",
   "id": "4edbfaf9-2e59-4cee-8255-1e11ba8fc586",
   "metadata": {},
   "source": [
    "<h2>Datasets and DataLoaders</h2>"
   ]
  },
  {
   "cell_type": "code",
   "execution_count": 310,
   "id": "88e47789-6af8-4858-a621-dcae45ff939f",
   "metadata": {},
   "outputs": [],
   "source": [
    "#Loading a dataset, in this case we can load Fashion-MNIST dataset from TorchVision\n",
    "import torch\n",
    "from torch.utils.data import Dataset\n",
    "from torchvision import datasets\n",
    "from torchvision.transforms import ToTensor\n",
    "import matplotlib.pyplot as plt"
   ]
  },
  {
   "cell_type": "code",
   "execution_count": 311,
   "id": "d064d449-e725-4b34-a558-bd8582d778de",
   "metadata": {},
   "outputs": [],
   "source": [
    "# We are looking to grab 60000 training examples and 10000 test examples from Fashion-MNIST\n",
    "\n",
    "# root is the path where the train/test data is stored\n",
    "# train specifes the training or test dataset\n",
    "# download=True downlaods the data from the internet if it's not available at root\n",
    "# transform and target_transform specify the feature and label transformation\n",
    "\n",
    "\n",
    "training_data = datasets.FashionMNIST(root=\"data\",\n",
    "                                      train=True,\n",
    "                                      download=True,\n",
    "                                      transform=ToTensor()\n",
    "                                     )\n",
    "\n",
    "test_data = datasets.FashionMNIST(\n",
    "    root=\"data\",\n",
    "    train=False,\n",
    "    download=True,\n",
    "    transform=ToTensor()\n",
    ")"
   ]
  },
  {
   "cell_type": "code",
   "execution_count": 312,
   "id": "9aaeb254-d0dd-4649-a11e-5c144b9bd7f3",
   "metadata": {},
   "outputs": [
    {
     "data": {
      "text/plain": [
       "<matplotlib.image.AxesImage at 0x300a69950>"
      ]
     },
     "execution_count": 312,
     "metadata": {},
     "output_type": "execute_result"
    },
    {
     "data": {
      "image/png": "[encoded data removed]",
      "text/plain": [
       "<Figure size 640x480 with 1 Axes>"
      ]
     },
     "metadata": {},
     "output_type": "display_data"
    }
   ],
   "source": [
    "#print(training_data[10])\n",
    "plt.imshow(training_data[10][0].squeeze(), cmap='gray')\n",
    "#This is the standard format of our data."
   ]
  },
  {
   "cell_type": "code",
   "execution_count": 313,
   "id": "b358039f-9c21-4736-b3d7-72320d1615ef",
   "metadata": {},
   "outputs": [
    {
     "data": {
      "image/png": "[encoded data removed]",
      "text/plain": [
       "<Figure size 800x800 with 9 Axes>"
      ]
     },
     "metadata": {},
     "output_type": "display_data"
    }
   ],
   "source": [
    "labels_map = {\n",
    "    0: \"T-Shirt\",\n",
    "    1: \"Trouser\",\n",
    "    2: \"Pullover\",\n",
    "    3: \"Dress\",\n",
    "    4: \"Coat\",\n",
    "    5: \"Sandal\",\n",
    "    6: \"Shirt\",\n",
    "    7: \"Sneaker\",\n",
    "    8: \"Bag\",\n",
    "    9: \"Ankle Boot\",\n",
    "}\n",
    "figure = plt.figure(figsize=(8, 8))\n",
    "cols, rows = 3, 3\n",
    "for i in range(1, cols * rows + 1):\n",
    "    sample_idx = torch.randint(len(training_data), size=(1,)).item()\n",
    "    img, label = training_data[sample_idx]\n",
    "    figure.add_subplot(rows, cols, i)\n",
    "    plt.title(labels_map[label])\n",
    "    plt.axis(\"off\")\n",
    "    plt.imshow(img.squeeze(), cmap=\"gray\")\n",
    "plt.show()"
   ]
  },
  {
   "cell_type": "markdown",
   "id": "bf3117b9-b7e1-4621-ada9-0da57dd9857f",
   "metadata": {},
   "source": [
    "<h3>Creating a Custom Dataset for your files</h3>\n",
    "<p>You need to implement the following functions:</p>\n",
    "<ul>\n",
    "    <li>\n",
    "        __init__ Run once when initializing the Dataset object. Initialize the directory containing the images, the annotations file, and both transforms (covered more later)\n",
    "    </li>\n",
    "    <li>\n",
    "        __len__ Returns the length of the dataset (number of samples)\n",
    "    </li>\n",
    "    <li>\n",
    "        __getitem__ Loads and returns a sample from the dataset at the given index idx, generally, we would probably want to return a tensor</li>\n",
    "    \n",
    "</ul>"
   ]
  },
  {
   "cell_type": "code",
   "execution_count": 314,
   "id": "320a1a30-8160-41b7-83af-f87766498e6e",
   "metadata": {},
   "outputs": [],
   "source": [
    "#In this case\n",
    "\n",
    "#Class that extends the Dataset template\n",
    "\n",
    "#You can consider this the behind the scenes implementation.\n",
    "class CustomImageDataset(Dataset):\n",
    "    def __init__(self, annotations_file, img_dir, transform=None, target_transform=None):\n",
    "        self.img_labels = pd.read_csv(annotations_file)\n",
    "        self.img_dir = img_dir \n",
    "        self.transform = transform\n",
    "        self.target_transform = target_transform\n",
    "\n",
    "    def __len__(self):\n",
    "        return len(self.img_labels)\n",
    "\n",
    "    def __getitem__(self, idx):\n",
    "        img_path = os.path.join(self.img_dir, self.img_labels.iloc[idx, 0])\n",
    "        image = read_image(img_path)\n",
    "        label = self.img.labels.iloc[idx, 1]\n",
    "        if self.transform:\n",
    "            image = self.transform(image)\n",
    "        if self.target_transform:\n",
    "            label = self.target_transform(label)\n",
    "        return image, label\n",
    "\n",
    "\n"
   ]
  },
  {
   "cell_type": "code",
   "execution_count": 315,
   "id": "7d6a8e23-0ad0-4308-9b46-39cbc6a7433b",
   "metadata": {},
   "outputs": [],
   "source": [
    "#In the case that we had an EEG dataset based on SSVEP, we would want to define our database\n",
    "#with the following attributes\n",
    "\n",
    "#Our __init__() should have our eeg_data and our labels. This is usually\n",
    "# samples * channels * (timesteps) * blocks\n",
    "#And then in this case we can assign our labels as well by translating the dataset from what we have.\n"
   ]
  },
  {
   "cell_type": "code",
   "execution_count": 316,
   "id": "fd1f622c-b710-4005-b72e-e44b9504bf7e",
   "metadata": {},
   "outputs": [],
   "source": [
    "# Here's a sample implementation:\n",
    "\n",
    "class EEGDataset(Dataset):\n",
    "    def __init__(self, eeg_signals, labels, window_size=1280, stride=160, transform=None):\n",
    "        # We need to concat each block on top of each other.\n",
    "        \n",
    "        self.data = eeg_signals # Shape: (num_samples, channels)\n",
    "\n",
    "\n",
    "# TODO: Return to this later"
   ]
  },
  {
   "cell_type": "markdown",
   "id": "7c64e63f-3dbf-43ea-8f98-ba811dd41a24",
   "metadata": {},
   "source": [
    "<h2>Preparing your data for training with DataLoaders</h2>\n",
    "<p>Generally, when training, we want to pass samples in \"minibatches\", reshuffule the data at every epoch to reduce model overfitting, and use Python's multiprocessing to speed up data retrieval.\n",
    "\n",
    "DataLoader is an interable that abstracts this complexity for us in an easy API</p>"
   ]
  },
  {
   "cell_type": "code",
   "execution_count": 357,
   "id": "dd6b3d69-d36e-40c0-bdf4-87f786e9b39f",
   "metadata": {},
   "outputs": [],
   "source": [
    "from torch.utils.data import DataLoader\n",
    "\n",
    "train_dataloader = DataLoader(training_data, batch_size=64, shuffle=False)\n",
    "test_dataloader = DataLoader(test_data, batch_size=64, shuffle=False)"
   ]
  },
  {
   "cell_type": "code",
   "execution_count": 358,
   "id": "df7bb97d-325e-4369-b95f-a84c80022958",
   "metadata": {},
   "outputs": [
    {
     "name": "stdout",
     "output_type": "stream",
     "text": [
      "Feature batch shape: torch.Size([64, 1, 28, 28])\n",
      "Label batch shape: torch.Size([64])\n"
     ]
    },
    {
     "data": {
      "image/png": "[encoded data removed]",
      "text/plain": [
       "<Figure size 640x480 with 1 Axes>"
      ]
     },
     "metadata": {},
     "output_type": "display_data"
    },
    {
     "name": "stdout",
     "output_type": "stream",
     "text": [
      "Label: Ankle Boot\n"
     ]
    }
   ],
   "source": [
    "#Iterating through the dataloader \n",
    "\n",
    "#Display image and label\n",
    "train_features, train_labels = next(iter(train_dataloader))\n",
    "print(f\"Feature batch shape: {train_features.size()}\")\n",
    "print(f\"Label batch shape: {train_labels.size()}\")\n",
    "img = train_features[0].squeeze() # Removes all redudant dimensions (1)\n",
    "label = train_labels[0]\n",
    "plt.imshow(img, cmap='gray')\n",
    "plt.show()\n",
    "label_here = labels_map[label.item()]\n",
    "print(f\"Label: {label_here}\")\n",
    "\n",
    "# This progressively proceeds through the dataset."
   ]
  },
  {
   "cell_type": "markdown",
   "id": "c07ecfcf-92ba-42b6-96e6-68288cae90ba",
   "metadata": {},
   "source": [
    "<h2>Transforms</h2>\n",
    "<p>\n",
    "    Data doesn't always come in final processed form, we may need to put the data through a few transforms first. In our case, we likely want to pass our EEG signals through some band pass filter instead of instantly choosing to try and process it through the model.\n",
    "    There is the <b>transform</b> parameter of the dataset that modifies the data, and the target_transform that modifies the labels. Remember before that we had a map from numbers to labels, and maybe we would prefer it if those labels were more closely aligned to the actual names, so we could define a <b>target_transform</b> function that would do that for us\n",
    "</p>"
   ]
  },
  {
   "cell_type": "code",
   "execution_count": 319,
   "id": "7272d62a-6d15-4f37-9038-bdb182dd4284",
   "metadata": {},
   "outputs": [],
   "source": [
    "from torchvision.transforms import ToTensor, Lambda\n",
    "\n",
    "ds = datasets.FashionMNIST(\n",
    "    root=\"data\",\n",
    "    train=True,\n",
    "    download=True,\n",
    "    transform=ToTensor(),\n",
    "    #Taking numbers from 0-9 and converting them to a One-Hot Encoded binary representation of the label.\n",
    "    #This makes sense, as this is what we expect from our data as an output from a deep network.\n",
    "    target_transform=Lambda(lambda y: torch.zeros(10, dtype=torch.float).scatter_(0, torch.tensor(y), value=1))\n",
    ")\n",
    "\n",
    "#Note that scatter copies eleemnts "
   ]
  },
  {
   "cell_type": "markdown",
   "id": "1f39a8e7-8291-49a7-9c51-c3b437614e2f",
   "metadata": {},
   "source": [
    "<h2>Bulding the neural network</h2>\n",
    "\n",
    "<p>Neural networks comrpise of layers that perform operations on data. The torch.nn namespace gives all the building blocks we need to build one. Every module in PyTorch subclasses the nn.Module. A neural network is a module itself that consists of other modules (layers). This nested strtucture allows for building and manging complex architectures easily</p>\n",
    "\n",
    "<p>In the following sections, we'll build a neural network to classify images in the FasionMNIST dataset.</p>"
   ]
  },
  {
   "cell_type": "code",
   "execution_count": 320,
   "id": "9889d7d0-b667-4aa9-9e2d-005385f860f5",
   "metadata": {},
   "outputs": [],
   "source": [
    "import os\n",
    "import torch\n",
    "from torch import nn\n",
    "from torch.utils.data import DataLoader\n",
    "from torchvision import datasets, transforms"
   ]
  },
  {
   "cell_type": "markdown",
   "id": "1496dbc2-078a-45da-add5-0c3cfa58bc16",
   "metadata": {},
   "source": [
    "<h3>Training Device</h3>\n",
    "<p>We want to train our model on some accelertor such as CUDE, MPS, MTIA, or XPU. If it is available, we will use it, but otherwise we can just use the CPU</p>"
   ]
  },
  {
   "cell_type": "code",
   "execution_count": 321,
   "id": "afa3c3d0-2b89-4fad-a909-21688086bba7",
   "metadata": {},
   "outputs": [
    {
     "name": "stdout",
     "output_type": "stream",
     "text": [
      "Using mps device\n"
     ]
    }
   ],
   "source": [
    "device = torch.accelerator.current_accelerator().type if torch.accelerator.is_available() else \"cpu\"\n",
    "print(f\"Using {device} device\")"
   ]
  },
  {
   "cell_type": "markdown",
   "id": "00ba96ce-868d-4926-8a76-521ebef2a6a7",
   "metadata": {},
   "source": [
    "<h3>Define the class</h3>\n",
    "<p>\n",
    "    Generally, we have class for our neural network which has a few functions that we typically use.\n",
    "    The first is __init__ for setting up the layers in our neural network stack. Inside is forward(), which does a forward pass of the network\n",
    "</p>"
   ]
  },
  {
   "cell_type": "code",
   "execution_count": 322,
   "id": "526ce638-6cbc-4194-9d09-fafd76828a7b",
   "metadata": {},
   "outputs": [],
   "source": [
    "class ImageClassifier(nn.Module):\n",
    "    def __init__(self):\n",
    "        super().__init__()\n",
    "        self.flatten = nn.Flatten()\n",
    "        self.linear_relu_stack = nn.Sequential(\n",
    "            nn.Linear(28 * 28, 512), # 512 nodes that each take in 28 * 28 inputs.\n",
    "            nn.ReLU(), #Rectified linear unit, basically our cutoff function for activation.\n",
    "            nn.Linear(512, 512), # 512 nodes that each take in 512 inputs\n",
    "            nn.ReLU(), \n",
    "            nn.Linear(512, 10), # Our final class of 10\n",
    "        )\n",
    "\n",
    "    def forward(self, x):\n",
    "            x = self.flatten(x)\n",
    "            logits = self.linear_relu_stack(x)\n",
    "            return logits"
   ]
  },
  {
   "cell_type": "code",
   "execution_count": 340,
   "id": "c5c96ece-191c-4973-8ae7-2928096027eb",
   "metadata": {},
   "outputs": [
    {
     "name": "stdout",
     "output_type": "stream",
     "text": [
      "ImageClassifier(\n",
      "  (flatten): Flatten(start_dim=1, end_dim=-1)\n",
      "  (linear_relu_stack): Sequential(\n",
      "    (0): Linear(in_features=784, out_features=512, bias=True)\n",
      "    (1): ReLU()\n",
      "    (2): Linear(in_features=512, out_features=512, bias=True)\n",
      "    (3): ReLU()\n",
      "    (4): Linear(in_features=512, out_features=10, bias=True)\n",
      "  )\n",
      ") mps\n"
     ]
    }
   ],
   "source": [
    "model = ImageClassifier().to(device)\n",
    "print(model, device)"
   ]
  },
  {
   "cell_type": "code",
   "execution_count": 341,
   "id": "f0e6ff43-2120-479f-8660-267754e7cbf9",
   "metadata": {},
   "outputs": [
    {
     "name": "stdout",
     "output_type": "stream",
     "text": [
      "Layer: linear_relu_stack.0.weight | Size: torch.Size([512, 784]) | Values : tensor([[-0.0121, -0.0167,  0.0239,  ..., -0.0106,  0.0011, -0.0227],\n",
      "        [-0.0199, -0.0037,  0.0109,  ...,  0.0123,  0.0099, -0.0354]],\n",
      "       device='mps:0', grad_fn=<SliceBackward0>) \n",
      "\n",
      "Layer: linear_relu_stack.0.bias | Size: torch.Size([512]) | Values : tensor([-0.0287,  0.0055], device='mps:0', grad_fn=<SliceBackward0>) \n",
      "\n",
      "Layer: linear_relu_stack.2.weight | Size: torch.Size([512, 512]) | Values : tensor([[-0.0136,  0.0041, -0.0354,  ..., -0.0263, -0.0246,  0.0384],\n",
      "        [-0.0288,  0.0024, -0.0169,  ...,  0.0304, -0.0076,  0.0319]],\n",
      "       device='mps:0', grad_fn=<SliceBackward0>) \n",
      "\n",
      "Layer: linear_relu_stack.2.bias | Size: torch.Size([512]) | Values : tensor([0.0330, 0.0107], device='mps:0', grad_fn=<SliceBackward0>) \n",
      "\n",
      "Layer: linear_relu_stack.4.weight | Size: torch.Size([10, 512]) | Values : tensor([[-0.0122, -0.0052,  0.0375,  ..., -0.0128,  0.0198, -0.0279],\n",
      "        [-0.0260, -0.0189, -0.0428,  ...,  0.0231,  0.0302,  0.0026]],\n",
      "       device='mps:0', grad_fn=<SliceBackward0>) \n",
      "\n",
      "Layer: linear_relu_stack.4.bias | Size: torch.Size([10]) | Values : tensor([0.0007, 0.0186], device='mps:0', grad_fn=<SliceBackward0>) \n",
      "\n"
     ]
    }
   ],
   "source": [
    "for name, param in model.named_parameters():\n",
    "    print(f\"Layer: {name} | Size: {param.size()} | Values : {param[:2]} \\n\")"
   ]
  },
  {
   "cell_type": "markdown",
   "id": "2476dfd2-19a4-4d16-b41d-b416c6b4f8a8",
   "metadata": {},
   "source": [
    "<h2>Automatic Differentiation with torch.autograd</h2>\n",
    "<p>\n",
    "    We went through this with minigrad -> it automatically can find the gradient of nodes that need to be optimized. \n",
    "    This general works by calling\n",
    "    <b>loss.backward()</b>\n",
    "    and then accessing w.grad and b.grad. \n",
    "    in practice, we want to calculate this as a tensor, multiply it by some training coefficient (alpha) and then apply that to the entire value tensor.\n",
    "</p>\n",
    "<p>\n",
    "    Note that we need to mark attributes with <b>requires_grad</b> as True before PyTorch actually decices to take the gradient when it backpropogates. In other words, for it to be considered as a variable and not as a constant.\n",
    "</p>\n",
    "<p>\n",
    "    For performance reasons, we can only call backward() once on a given graph. If we want to do it again on the same graph, we need to pass retain_graph = True to the backward call.\n",
    "</p>"
   ]
  },
  {
   "cell_type": "markdown",
   "id": "614d5420-5b47-40e2-a3b5-e9f3b2e6163d",
   "metadata": {},
   "source": [
    "<h3>What is happening here?</h3>\n",
    "<p>As with micrograd, we had each numerical value stored as its own class:</p>\n",
    "<p>This numerical value stores the out values (for backpropogation later) and the operation that created it. When you backprogogate, </p>\n",
    "<p>Remember that the partial of the loss is equal to the sum of all the paths that the change in that variable has an influence on.</p>\n",
    "<p>So to calcuate the gradient of a variable, we need to have the information on all the other nodes influenced by this value.</p>\n",
    "<p>If we proceed backwards starting from the output node, then we have the change in the loss from the preceding nodes that the output goes to, and then we can calculate the gradient of that node. Since we do BFT, we know that we will encounter each output node before we get to the node that requires all their values</p>"
   ]
  },
  {
   "cell_type": "code",
   "execution_count": 325,
   "id": "fa462d9c-ec06-4267-8158-bb05b7b65ed9",
   "metadata": {},
   "outputs": [],
   "source": [
    "# Moving on\n",
    "# We have a function type for our loss.\n",
    "# This is the simplest neural network that we can have:\n",
    "\n",
    "import torch\n",
    "\n",
    "x = torch.ones(5)  # input tensor\n",
    "y = torch.zeros(3)  # expected output\n",
    "w = torch.randn(5, 3, requires_grad=True)\n",
    "b = torch.randn(3, requires_grad=True)\n",
    "z = torch.matmul(x, w)+b\n",
    "loss = torch.nn.functional.binary_cross_entropy_with_logits(z, y)"
   ]
  },
  {
   "cell_type": "code",
   "execution_count": 326,
   "id": "49676951-aff9-48ce-a1b8-6b08e7b9255f",
   "metadata": {},
   "outputs": [],
   "source": [
    "loss.backward()"
   ]
  },
  {
   "cell_type": "code",
   "execution_count": 327,
   "id": "cc2ec090-b732-44c2-a1bc-3340934fdcb0",
   "metadata": {},
   "outputs": [
    {
     "data": {
      "text/plain": [
       "tensor([[0.3121, 0.3190, 0.0224],\n",
       "        [0.3121, 0.3190, 0.0224],\n",
       "        [0.3121, 0.3190, 0.0224],\n",
       "        [0.3121, 0.3190, 0.0224],\n",
       "        [0.3121, 0.3190, 0.0224]])"
      ]
     },
     "execution_count": 327,
     "metadata": {},
     "output_type": "execute_result"
    }
   ],
   "source": [
    "w.grad"
   ]
  },
  {
   "cell_type": "code",
   "execution_count": 328,
   "id": "12ab4b38-1e76-4336-b3b6-5746e2e6b761",
   "metadata": {},
   "outputs": [
    {
     "data": {
      "text/plain": [
       "tensor([0.3121, 0.3190, 0.0224])"
      ]
     },
     "execution_count": 328,
     "metadata": {},
     "output_type": "execute_result"
    }
   ],
   "source": [
    "b.grad"
   ]
  },
  {
   "cell_type": "code",
   "execution_count": 329,
   "id": "1d0dbe4c-154f-4d02-b58a-61b977f4b05b",
   "metadata": {},
   "outputs": [
    {
     "name": "stdout",
     "output_type": "stream",
     "text": [
      "True\n",
      "False\n"
     ]
    }
   ],
   "source": [
    "z = torch.matmul(x, w)+b\n",
    "print(z.requires_grad)\n",
    "# There are cases where we want to disable gradient tracking, usually when the computational history and gradient computation is not required, like when the model is already trained\n",
    "# We can declare the following:\n",
    "with torch.no_grad():\n",
    "    z=torch.matmul(x,w)+b\n",
    "    print(z.requires_grad)\n",
    "\n",
    "# You can achieve the same "
   ]
  },
  {
   "cell_type": "markdown",
   "id": "6cfc7589-b025-4a0f-b141-da7305ef2c9f",
   "metadata": {},
   "source": [
    "From the PyTorch Docs\n",
    "\n",
    "More on Computational Graphs\n",
    "\n",
    "Conceptually, autograd keeps a record of data (tensors) and all executed operations (along with the resulting new tensors) in a directed acyclic graph (DAG) consisting of Function objects. In this DAG, leaves are the input tensors, roots are the output tensors. By tracing this graph from roots to leaves, you can automatically compute the gradients using the chain rule.\n",
    "\n",
    "In a forward pass, autograd does two things simultaneously:\n",
    "\n",
    "    run the requested operation to compute a resulting tensor\n",
    "\n",
    "    maintain the operation’s gradient function in the DAG.\n",
    "\n",
    "The backward pass kicks off when .backward() is called on the DAG root. autograd then:\n",
    "\n",
    "    computes the gradients from each .grad_fn,\n",
    "\n",
    "    accumulates them in the respective tensor’s .grad attribute\n",
    "\n",
    "    using the chain rule, propagates all the way to the leaf tensors.\n"
   ]
  },
  {
   "cell_type": "markdown",
   "id": "c39b51c8-b7a7-4edc-856b-5be299045511",
   "metadata": {},
   "source": [
    "<h2>Optional: Jacobian Product</h2>\n",
    "<p1>\n",
    "Optional Reading: Tensor Gradients and Jacobian Products\n",
    "\n",
    "In many cases, we have a scalar loss function, and we need to compute the gradient with respect to some parameters. However, there are cases when the output function is an arbitrary tensor. In this case, PyTorch allows you to compute so-called Jacobian product, and not the actual gradient.\n",
    "\n",
    "For a vector function y⃗=f(x⃗)y\n",
    "​=f(x\n",
    "), where x⃗=⟨x1,…,xn⟩x\n",
    "=⟨x1​,…,xn​⟩ and y⃗=⟨y1,…,ym⟩y\n",
    "​=⟨y1​,…,ym​⟩, a gradient of y⃗y\n",
    "​ with respect to x⃗x\n",
    "\n",
    "is given by Jacobian matrix:\n",
    "J=(∂y1∂x1⋯∂y1∂xn⋮⋱⋮∂ym∂x1⋯∂ym∂xn)\n",
    "J=\n",
    "​∂x1​∂y1​​⋮∂x1​∂ym​​​⋯⋱⋯​∂xn​∂y1​​⋮∂xn​∂ym​​​\n",
    "​\n",
    "\n",
    "Instead of computing the Jacobian matrix itself, PyTorch allows you to compute Jacobian Product vT⋅JvT⋅J for a given input vector v=(v1…vm)v=(v1​…vm​). This is achieved by calling backward with vv as an argument. The size of vv should be the same as the size of the original tensor, with respect to which we want to compute the product:</p1>"
   ]
  },
  {
   "cell_type": "markdown",
   "id": "c724170c-b7a0-402c-b31e-89c6b882fb75",
   "metadata": {},
   "source": [
    "<h2>Optimizing Model Parameters</h2>\n",
    "<h3>Hyperparameters</h3>\n",
    "<p>Hyperparameters are adjustable parameters that control the training process. They can also be considered to be factors such as model size, receptive field for CNNs, and more parameters specific to a particular architecture. In our case, we have:</p>\n",
    "<ul>\n",
    "    <li>learning rate (gradient scalar multiplier )</li>\n",
    "    <li>batch_size (Number of data samples propogated through the network before the parameters are updated.)</li>\n",
    "    <li>epochs (Number of times to iterate over the dataset)</li>\n",
    "</ul>"
   ]
  },
  {
   "cell_type": "code",
   "execution_count": 330,
   "id": "dd3f2b3f-cd45-4918-9162-c36bee33676b",
   "metadata": {},
   "outputs": [],
   "source": [
    "learning_rate = 1e-3\n",
    "batch_size = 64\n",
    "epochs = 5"
   ]
  },
  {
   "cell_type": "markdown",
   "id": "38d1b310-08dc-49c4-8904-d6943bce150d",
   "metadata": {},
   "source": [
    "<h2>Optimization Loop</h2>\n",
    "<p>We have the train loop and the test/validation loop.</p>\n",
    "<h3>Picking our loss</h3>\n",
    "<p>Standard loss functions are nn.MSELoss (mean squared error) for regression, and nn.NLLLoss (negative log likelihood) for classification. nn.CrossEntropyLoss combines nn.LogSoftMax and nn.NLLLoss</p>\n",
    "<p>In this cass, we'll choose cross entropy loss</p>"
   ]
  },
  {
   "cell_type": "code",
   "execution_count": 331,
   "id": "522f7e7d-6769-4707-8ae3-8c541cf290a3",
   "metadata": {},
   "outputs": [],
   "source": [
    "loss_fn = nn.CrossEntropyLoss()"
   ]
  },
  {
   "cell_type": "code",
   "execution_count": 353,
   "id": "d8a2caa6-8eda-45d6-bce7-6a51e94c74ec",
   "metadata": {},
   "outputs": [
    {
     "name": "stdout",
     "output_type": "stream",
     "text": [
      "Using device: mps\n"
     ]
    }
   ],
   "source": [
    "if not torch.backends.mps.is_available():\n",
    "    if not torch.backends.mps.is_built():\n",
    "        print(\"MPS not available because PyTorch wasn't built with MPS support\")\n",
    "    else:\n",
    "        print(\"MPS not available - requires macOS 12.3+ and an MPS-enabled device\")\n",
    "else:\n",
    "    device = torch.device(\"mps\")\n",
    "    print(f\"Using device: {device}\")"
   ]
  },
  {
   "cell_type": "markdown",
   "id": "a74862e3-20e1-40cd-b378-f9aeffb51bb9",
   "metadata": {},
   "source": [
    "<h3>Optimizer</h3>\n",
    "<p>Optimization algorithms define how we perform the process of adjusting the model parameters to reduce model error in each step.</p>"
   ]
  },
  {
   "cell_type": "code",
   "execution_count": 342,
   "id": "4017a0a3-a4f8-4188-b0e8-831fd4448b07",
   "metadata": {},
   "outputs": [],
   "source": [
    "optimizer = torch.optim.SGD(model.parameters(), lr=learning_rate)"
   ]
  },
  {
   "cell_type": "code",
   "execution_count": null,
   "id": "d05e182b-5023-47c0-a7c8-5ad99a544ee8",
   "metadata": {},
   "outputs": [],
   "source": []
  },
  {
   "cell_type": "code",
   "execution_count": null,
   "id": "5ddeddc2-ce26-42d6-84a2-b52bba9de000",
   "metadata": {},
   "outputs": [],
   "source": []
  },
  {
   "cell_type": "code",
   "execution_count": null,
   "id": "133dec28-5258-4902-ba52-2e3d21e2f16e",
   "metadata": {},
   "outputs": [],
   "source": []
  },
  {
   "cell_type": "code",
   "execution_count": 346,
   "id": "9751b864-7225-4c3c-ba9f-33b2aedf508d",
   "metadata": {},
   "outputs": [],
   "source": [
    "#torch.set_default_device(torch.device('mps'))"
   ]
  },
  {
   "cell_type": "code",
   "execution_count": 359,
   "id": "9ddfa4c0-1a57-41fa-ab43-401848d58aad",
   "metadata": {},
   "outputs": [],
   "source": [
    "# We usually define some function that does training for us having been fed our dataloader.\n",
    "def train_loop(dataloader, model, loss_fn, optimizer):\n",
    "    size = len(dataloader.dataset)\n",
    "    #Set model to training mode - important for batch normalization and dropout layers\n",
    "    #This is unnecessary in this case but its best practice\n",
    "    model.train()\n",
    "    for batch, (X, y) in enumerate(dataloader):\n",
    "        X = X.to(device)\n",
    "        y = y.to(device)\n",
    "        # Compute predictions\n",
    "        pred = model(X)\n",
    "        loss = loss_fn(pred, y)\n",
    "\n",
    "        #Backpropogation\n",
    "        loss.backward()\n",
    "        optimizer.step() # does a step at the rate of our learning rate. \n",
    "        optimizer.zero_grad()\n",
    "\n",
    "        #Give an update every 100 batches\n",
    "        if batch % 100 == 0:\n",
    "            loss, current = loss.item(), batch * batch_size + len(X)\n",
    "            print(f\"loss: {loss:>7f}  [{current:>5d}/{size:>5d}]\")"
   ]
  },
  {
   "cell_type": "code",
   "execution_count": 360,
   "id": "ea48ec98-9cf4-44b0-996f-86a5e41b81d4",
   "metadata": {},
   "outputs": [],
   "source": [
    "\n",
    "\n",
    "def test_loop(dataloader, model, loss_fn):\n",
    "    # Set the model to evaluation mode - important for batch normalization and dropout layers\n",
    "    # Unnecessary in this situation but added for best practices\n",
    "    model.eval()\n",
    "    size = len(dataloader.dataset)\n",
    "    num_batches = len(dataloader)\n",
    "    test_loss, correct = 0, 0\n",
    "\n",
    "    # Evaluating the model with torch.no_grad() ensures that no gradients are computed during test mode\n",
    "    # also serves to reduce unnecessary gradient computations and memory usage for tensors with requires_grad=True\n",
    "    with torch.no_grad():\n",
    "        for X, y in dataloader:\n",
    "            X = X.to(device)\n",
    "            y = y.to(device)\n",
    "            pred = model(X)\n",
    "            test_loss += loss_fn(pred, y).item()\n",
    "            correct += (pred.argmax(1) == y).type(torch.float).sum().item()\n",
    "\n",
    "    test_loss /= num_batches\n",
    "    correct /= size\n",
    "    print(f\"Test Error: \\n Accuracy: {(100*correct):>0.1f}%, Avg loss: {test_loss:>8f} \\n\")\n"
   ]
  },
  {
   "cell_type": "code",
   "execution_count": 361,
   "id": "cb425e4e-b783-47ec-91cc-27038c4c49f4",
   "metadata": {},
   "outputs": [
    {
     "name": "stdout",
     "output_type": "stream",
     "text": [
      "Epoch 1\n",
      "-------------------------------\n",
      "loss: 2.310190  [   64/60000]\n",
      "loss: 2.298256  [ 6464/60000]\n",
      "loss: 2.281458  [12864/60000]\n",
      "loss: 2.274739  [19264/60000]\n",
      "loss: 2.275212  [25664/60000]\n",
      "loss: 2.232711  [32064/60000]\n",
      "loss: 2.249634  [38464/60000]\n",
      "loss: 2.213932  [44864/60000]\n",
      "loss: 2.217954  [51264/60000]\n",
      "loss: 2.189540  [57664/60000]\n",
      "Test Error: \n",
      " Accuracy: 43.2%, Avg loss: 2.180204 \n",
      "\n",
      "Epoch 2\n",
      "-------------------------------\n",
      "loss: 2.192167  [   64/60000]\n",
      "loss: 2.180146  [ 6464/60000]\n",
      "loss: 2.127582  [12864/60000]\n",
      "loss: 2.145139  [19264/60000]\n",
      "loss: 2.116111  [25664/60000]\n",
      "loss: 2.044399  [32064/60000]\n",
      "loss: 2.087731  [38464/60000]\n",
      "loss: 2.009720  [44864/60000]\n",
      "loss: 2.023607  [51264/60000]\n",
      "loss: 1.959206  [57664/60000]\n",
      "Test Error: \n",
      " Accuracy: 57.3%, Avg loss: 1.947266 \n",
      "\n",
      "Epoch 3\n",
      "-------------------------------\n",
      "loss: 1.978798  [   64/60000]\n",
      "loss: 1.946216  [ 6464/60000]\n",
      "loss: 1.834123  [12864/60000]\n",
      "loss: 1.881358  [19264/60000]\n",
      "loss: 1.786715  [25664/60000]\n",
      "loss: 1.716901  [32064/60000]\n",
      "loss: 1.758865  [38464/60000]\n",
      "loss: 1.650426  [44864/60000]\n",
      "loss: 1.682472  [51264/60000]\n",
      "loss: 1.580276  [57664/60000]\n",
      "Test Error: \n",
      " Accuracy: 62.5%, Avg loss: 1.586438 \n",
      "\n",
      "Epoch 4\n",
      "-------------------------------\n",
      "loss: 1.647306  [   64/60000]\n",
      "loss: 1.607628  [ 6464/60000]\n",
      "loss: 1.459077  [12864/60000]\n",
      "loss: 1.536683  [19264/60000]\n",
      "loss: 1.421953  [25664/60000]\n",
      "loss: 1.395174  [32064/60000]\n",
      "loss: 1.416809  [38464/60000]\n",
      "loss: 1.339076  [44864/60000]\n",
      "loss: 1.380707  [51264/60000]\n",
      "loss: 1.267036  [57664/60000]\n",
      "Test Error: \n",
      " Accuracy: 63.7%, Avg loss: 1.297938 \n",
      "\n",
      "Epoch 5\n",
      "-------------------------------\n",
      "loss: 1.373532  [   64/60000]\n",
      "loss: 1.351947  [ 6464/60000]\n",
      "loss: 1.189068  [12864/60000]\n",
      "loss: 1.291897  [19264/60000]\n",
      "loss: 1.173946  [25664/60000]\n",
      "loss: 1.180043  [32064/60000]\n",
      "loss: 1.197638  [38464/60000]\n",
      "loss: 1.143122  [44864/60000]\n",
      "loss: 1.189273  [51264/60000]\n",
      "loss: 1.083927  [57664/60000]\n",
      "Test Error: \n",
      " Accuracy: 64.8%, Avg loss: 1.115725 \n",
      "\n",
      "Epoch 6\n",
      "-------------------------------\n",
      "loss: 1.187682  [   64/60000]\n",
      "loss: 1.187170  [ 6464/60000]\n",
      "loss: 1.009278  [12864/60000]\n",
      "loss: 1.138774  [19264/60000]\n",
      "loss: 1.017640  [25664/60000]\n",
      "loss: 1.035744  [32064/60000]\n",
      "loss: 1.065605  [38464/60000]\n",
      "loss: 1.018330  [44864/60000]\n",
      "loss: 1.065851  [51264/60000]\n",
      "loss: 0.973171  [57664/60000]\n",
      "Test Error: \n",
      " Accuracy: 65.9%, Avg loss: 0.999174 \n",
      "\n",
      "Epoch 7\n",
      "-------------------------------\n",
      "loss: 1.059037  [   64/60000]\n",
      "loss: 1.081621  [ 6464/60000]\n",
      "loss: 0.886674  [12864/60000]\n",
      "loss: 1.037945  [19264/60000]\n",
      "loss: 0.919792  [25664/60000]\n",
      "loss: 0.934942  [32064/60000]\n",
      "loss: 0.981869  [38464/60000]\n",
      "loss: 0.936794  [44864/60000]\n",
      "loss: 0.981187  [51264/60000]\n",
      "loss: 0.901513  [57664/60000]\n",
      "Test Error: \n",
      " Accuracy: 67.0%, Avg loss: 0.920685 \n",
      "\n",
      "Epoch 8\n",
      "-------------------------------\n",
      "loss: 0.965191  [   64/60000]\n",
      "loss: 1.009242  [ 6464/60000]\n",
      "loss: 0.799270  [12864/60000]\n",
      "loss: 0.967383  [19264/60000]\n",
      "loss: 0.855531  [25664/60000]\n",
      "loss: 0.861686  [32064/60000]\n",
      "loss: 0.924704  [38464/60000]\n",
      "loss: 0.882221  [44864/60000]\n",
      "loss: 0.920648  [51264/60000]\n",
      "loss: 0.851189  [57664/60000]\n",
      "Test Error: \n",
      " Accuracy: 68.4%, Avg loss: 0.864822 \n",
      "\n",
      "Epoch 9\n",
      "-------------------------------\n",
      "loss: 0.893782  [   64/60000]\n",
      "loss: 0.955610  [ 6464/60000]\n",
      "loss: 0.734476  [12864/60000]\n",
      "loss: 0.915390  [19264/60000]\n",
      "loss: 0.810383  [25664/60000]\n",
      "loss: 0.807069  [32064/60000]\n",
      "loss: 0.882455  [38464/60000]\n",
      "loss: 0.844407  [44864/60000]\n",
      "loss: 0.875807  [51264/60000]\n",
      "loss: 0.813347  [57664/60000]\n",
      "Test Error: \n",
      " Accuracy: 69.4%, Avg loss: 0.822987 \n",
      "\n",
      "Epoch 10\n",
      "-------------------------------\n",
      "loss: 0.837526  [   64/60000]\n",
      "loss: 0.912812  [ 6464/60000]\n",
      "loss: 0.684601  [12864/60000]\n",
      "loss: 0.875520  [19264/60000]\n",
      "loss: 0.776637  [25664/60000]\n",
      "loss: 0.765282  [32064/60000]\n",
      "loss: 0.849043  [38464/60000]\n",
      "loss: 0.816788  [44864/60000]\n",
      "loss: 0.841769  [51264/60000]\n",
      "loss: 0.783457  [57664/60000]\n",
      "Test Error: \n",
      " Accuracy: 70.9%, Avg loss: 0.790131 \n",
      "\n",
      "Done!\n"
     ]
    }
   ],
   "source": [
    "epochs = 10 #Go through the dataset 10 times\n",
    "for t in range(epochs):\n",
    "    print(f\"Epoch {t+1}\\n-------------------------------\")\n",
    "    train_loop(train_dataloader, model, loss_fn, optimizer)\n",
    "    test_loop(test_dataloader, model, loss_fn)\n",
    "print(\"Done!\")"
   ]
  },
  {
   "cell_type": "code",
   "execution_count": 362,
   "id": "49e3b521-fc72-472b-9d95-95526c736f0b",
   "metadata": {},
   "outputs": [
    {
     "data": {
      "text/plain": [
       "ImageClassifier(\n",
       "  (flatten): Flatten(start_dim=1, end_dim=-1)\n",
       "  (linear_relu_stack): Sequential(\n",
       "    (0): Linear(in_features=784, out_features=512, bias=True)\n",
       "    (1): ReLU()\n",
       "    (2): Linear(in_features=512, out_features=512, bias=True)\n",
       "    (3): ReLU()\n",
       "    (4): Linear(in_features=512, out_features=10, bias=True)\n",
       "  )\n",
       ")"
      ]
     },
     "execution_count": 362,
     "metadata": {},
     "output_type": "execute_result"
    }
   ],
   "source": [
    "model.eval()"
   ]
  },
  {
   "cell_type": "markdown",
   "id": "59dd0ead-7d97-4fd0-b5f2-db40bd7b9620",
   "metadata": {},
   "source": [
    "<h2>Saving and Loading a Model</h2>\n",
    "<p>For us to fully store the information in our model, we need to be able to summarize a) the structure of our model and b) the values of our parameters.</p>"
   ]
  },
  {
   "cell_type": "code",
   "execution_count": 363,
   "id": "b9266251-1964-4db2-8804-ae5d75d20a11",
   "metadata": {},
   "outputs": [],
   "source": [
    "import torchvision.models as models"
   ]
  },
  {
   "cell_type": "code",
   "execution_count": null,
   "id": "e07a294e-77fe-4098-b367-f8080bb81be1",
   "metadata": {},
   "outputs": [],
   "source": [
    "#SAVING A MODEL\n",
    "model = models.vgg16(weights='IMAGENET1K_V1')\n",
    "torch.save(model.state_dict(), 'model_weights.pth')"
   ]
  }
 ],
 "metadata": {
  "kernelspec": {
   "display_name": "Python 3 (ipykernel)",
   "language": "python",
   "name": "python3"
  },
  "language_info": {
   "codemirror_mode": {
    "name": "ipython",
    "version": 3
   },
   "file_extension": ".py",
   "mimetype": "text/x-python",
   "name": "python",
   "nbconvert_exporter": "python",
   "pygments_lexer": "ipython3",
   "version": "3.13.2"
  }
 },
 "nbformat": 4,
 "nbformat_minor": 5
}
